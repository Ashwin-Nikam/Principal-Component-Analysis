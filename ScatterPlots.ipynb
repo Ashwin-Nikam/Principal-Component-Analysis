{
 "cells": [
  {
   "cell_type": "markdown",
   "metadata": {},
   "source": [
    "#### Library for Generating Plots"
   ]
  },
  {
   "cell_type": "code",
   "execution_count": 4,
   "metadata": {
    "collapsed": true
   },
   "outputs": [],
   "source": [
    "library(ggplot2)"
   ]
  },
  {
   "cell_type": "markdown",
   "metadata": {},
   "source": [
    "#### Dataset 1"
   ]
  },
  {
   "cell_type": "markdown",
   "metadata": {},
   "source": [
    "##### Reading CSV for PCA"
   ]
  },
  {
   "cell_type": "code",
   "execution_count": 2,
   "metadata": {
    "collapsed": false
   },
   "outputs": [
    {
     "data": {
      "text/html": [
       "<table>\n",
       "<thead><tr><th scope=col>V1</th><th scope=col>V2</th><th scope=col>V3</th></tr></thead>\n",
       "<tbody>\n",
       "\t<tr><td>NA         </td><td> 0.0000000 </td><td> 1.00000000</td></tr>\n",
       "\t<tr><td> 0         </td><td>-1.1050198 </td><td> 1.00300057</td></tr>\n",
       "\t<tr><td> 1         </td><td>-1.5669561 </td><td> 0.63101901</td></tr>\n",
       "\t<tr><td> 2         </td><td> 1.8066905 </td><td>-1.02243763</td></tr>\n",
       "\t<tr><td> 3         </td><td>-1.6431772 </td><td> 1.32499840</td></tr>\n",
       "\t<tr><td> 4         </td><td> 1.9339774 </td><td>-1.17718001</td></tr>\n",
       "\t<tr><td> 5         </td><td>-1.4354156 </td><td> 0.63068040</td></tr>\n",
       "\t<tr><td> 6         </td><td> 2.0313548 </td><td>-0.97753766</td></tr>\n",
       "\t<tr><td> 7         </td><td>-1.5424755 </td><td> 0.87610143</td></tr>\n",
       "\t<tr><td> 8         </td><td>-0.6753447 </td><td> 1.01106066</td></tr>\n",
       "\t<tr><td> 9         </td><td>-1.3235108 </td><td> 0.26559050</td></tr>\n",
       "\t<tr><td>10         </td><td>-1.1964984 </td><td> 0.58503885</td></tr>\n",
       "\t<tr><td>11         </td><td>-0.6017263 </td><td> 0.65860984</td></tr>\n",
       "\t<tr><td>12         </td><td>-0.3928177 </td><td>-0.01783056</td></tr>\n",
       "\t<tr><td>13         </td><td> 2.0883704 </td><td>-1.21440072</td></tr>\n",
       "\t<tr><td>14         </td><td>-1.7189991 </td><td> 0.64319347</td></tr>\n",
       "\t<tr><td>15         </td><td> 1.6956338 </td><td>-1.12259966</td></tr>\n",
       "\t<tr><td>16         </td><td>-0.6687470 </td><td> 0.27176272</td></tr>\n",
       "\t<tr><td>17         </td><td>-0.6825754 </td><td> 0.31551639</td></tr>\n",
       "\t<tr><td>18         </td><td>-1.0721876 </td><td> 0.26083218</td></tr>\n",
       "\t<tr><td>19         </td><td> 1.9989453 </td><td>-1.02550956</td></tr>\n",
       "\t<tr><td>20         </td><td>-1.4451217 </td><td> 0.49009975</td></tr>\n",
       "\t<tr><td>21         </td><td> 1.8364746 </td><td>-0.84690499</td></tr>\n",
       "\t<tr><td>22         </td><td> 1.6422415 </td><td>-1.05114640</td></tr>\n",
       "\t<tr><td>23         </td><td>-0.4424536 </td><td> 0.97030343</td></tr>\n",
       "\t<tr><td>24         </td><td>-0.5851980 </td><td> 0.51515874</td></tr>\n",
       "\t<tr><td>25         </td><td>-0.4878442 </td><td> 0.12915706</td></tr>\n",
       "\t<tr><td>26         </td><td>-0.8688051 </td><td>-0.05797221</td></tr>\n",
       "\t<tr><td>27         </td><td>-2.0434181 </td><td> 1.56712213</td></tr>\n",
       "\t<tr><td>28         </td><td> 1.9175236 </td><td>-1.00586559</td></tr>\n",
       "\t<tr><td>...</td><td>...</td><td>...</td></tr>\n",
       "\t<tr><td>120        </td><td> 2.52649587</td><td>-1.20840785</td></tr>\n",
       "\t<tr><td>121        </td><td> 1.69825998</td><td>-0.87848419</td></tr>\n",
       "\t<tr><td>122        </td><td>-0.37686201</td><td> 0.20145576</td></tr>\n",
       "\t<tr><td>123        </td><td>-1.41053400</td><td> 0.24333093</td></tr>\n",
       "\t<tr><td>124        </td><td>-0.22829331</td><td> 0.41041775</td></tr>\n",
       "\t<tr><td>125        </td><td> 2.00659958</td><td>-0.74842936</td></tr>\n",
       "\t<tr><td>126        </td><td> 2.00929946</td><td>-0.84812678</td></tr>\n",
       "\t<tr><td>127        </td><td>-0.35253042</td><td> 0.39081152</td></tr>\n",
       "\t<tr><td>128        </td><td>-0.49046957</td><td> 0.25671781</td></tr>\n",
       "\t<tr><td>129        </td><td>-1.71049767</td><td> 0.08334554</td></tr>\n",
       "\t<tr><td>130        </td><td>-1.41788841</td><td> 0.82105647</td></tr>\n",
       "\t<tr><td>131        </td><td>-1.07261123</td><td> 0.67929625</td></tr>\n",
       "\t<tr><td>132        </td><td> 2.29977886</td><td>-1.48848449</td></tr>\n",
       "\t<tr><td>133        </td><td> 0.11783282</td><td> 0.17508182</td></tr>\n",
       "\t<tr><td>134        </td><td> 2.09347289</td><td>-1.15357266</td></tr>\n",
       "\t<tr><td>135        </td><td>-0.30664251</td><td> 0.46968093</td></tr>\n",
       "\t<tr><td>136        </td><td> 0.22343706</td><td> 0.28906696</td></tr>\n",
       "\t<tr><td>137        </td><td>-1.89735102</td><td> 0.63037506</td></tr>\n",
       "\t<tr><td>138        </td><td> 1.65309376</td><td>-1.26436436</td></tr>\n",
       "\t<tr><td>139        </td><td>-0.65526849</td><td> 0.30266023</td></tr>\n",
       "\t<tr><td>140        </td><td>-0.66632164</td><td> 0.64625602</td></tr>\n",
       "\t<tr><td>141        </td><td> 1.93675182</td><td>-1.24901411</td></tr>\n",
       "\t<tr><td>142        </td><td>-0.28771155</td><td> 0.48675532</td></tr>\n",
       "\t<tr><td>143        </td><td>-1.44024269</td><td> 0.46733783</td></tr>\n",
       "\t<tr><td>144        </td><td>-1.75366042</td><td> 1.23377518</td></tr>\n",
       "\t<tr><td>145        </td><td>-0.07709838</td><td> 0.86349520</td></tr>\n",
       "\t<tr><td>146        </td><td>-0.40984409</td><td> 0.51622128</td></tr>\n",
       "\t<tr><td>147        </td><td>-1.72169899</td><td> 0.74289090</td></tr>\n",
       "\t<tr><td>148        </td><td> 2.00149705</td><td>-0.80925742</td></tr>\n",
       "\t<tr><td>149        </td><td> 2.03120573</td><td>-1.03326432</td></tr>\n",
       "</tbody>\n",
       "</table>\n"
      ],
      "text/latex": [
       "\\begin{tabular}{r|lll}\n",
       " V1 & V2 & V3\\\\\n",
       "\\hline\n",
       "\t NA          &  0.0000000  &  1.00000000\\\\\n",
       "\t  0          & -1.1050198  &  1.00300057\\\\\n",
       "\t  1          & -1.5669561  &  0.63101901\\\\\n",
       "\t  2          &  1.8066905  & -1.02243763\\\\\n",
       "\t  3          & -1.6431772  &  1.32499840\\\\\n",
       "\t  4          &  1.9339774  & -1.17718001\\\\\n",
       "\t  5          & -1.4354156  &  0.63068040\\\\\n",
       "\t  6          &  2.0313548  & -0.97753766\\\\\n",
       "\t  7          & -1.5424755  &  0.87610143\\\\\n",
       "\t  8          & -0.6753447  &  1.01106066\\\\\n",
       "\t  9          & -1.3235108  &  0.26559050\\\\\n",
       "\t 10          & -1.1964984  &  0.58503885\\\\\n",
       "\t 11          & -0.6017263  &  0.65860984\\\\\n",
       "\t 12          & -0.3928177  & -0.01783056\\\\\n",
       "\t 13          &  2.0883704  & -1.21440072\\\\\n",
       "\t 14          & -1.7189991  &  0.64319347\\\\\n",
       "\t 15          &  1.6956338  & -1.12259966\\\\\n",
       "\t 16          & -0.6687470  &  0.27176272\\\\\n",
       "\t 17          & -0.6825754  &  0.31551639\\\\\n",
       "\t 18          & -1.0721876  &  0.26083218\\\\\n",
       "\t 19          &  1.9989453  & -1.02550956\\\\\n",
       "\t 20          & -1.4451217  &  0.49009975\\\\\n",
       "\t 21          &  1.8364746  & -0.84690499\\\\\n",
       "\t 22          &  1.6422415  & -1.05114640\\\\\n",
       "\t 23          & -0.4424536  &  0.97030343\\\\\n",
       "\t 24          & -0.5851980  &  0.51515874\\\\\n",
       "\t 25          & -0.4878442  &  0.12915706\\\\\n",
       "\t 26          & -0.8688051  & -0.05797221\\\\\n",
       "\t 27          & -2.0434181  &  1.56712213\\\\\n",
       "\t 28          &  1.9175236  & -1.00586559\\\\\n",
       "\t ... & ... & ...\\\\\n",
       "\t 120         &  2.52649587 & -1.20840785\\\\\n",
       "\t 121         &  1.69825998 & -0.87848419\\\\\n",
       "\t 122         & -0.37686201 &  0.20145576\\\\\n",
       "\t 123         & -1.41053400 &  0.24333093\\\\\n",
       "\t 124         & -0.22829331 &  0.41041775\\\\\n",
       "\t 125         &  2.00659958 & -0.74842936\\\\\n",
       "\t 126         &  2.00929946 & -0.84812678\\\\\n",
       "\t 127         & -0.35253042 &  0.39081152\\\\\n",
       "\t 128         & -0.49046957 &  0.25671781\\\\\n",
       "\t 129         & -1.71049767 &  0.08334554\\\\\n",
       "\t 130         & -1.41788841 &  0.82105647\\\\\n",
       "\t 131         & -1.07261123 &  0.67929625\\\\\n",
       "\t 132         &  2.29977886 & -1.48848449\\\\\n",
       "\t 133         &  0.11783282 &  0.17508182\\\\\n",
       "\t 134         &  2.09347289 & -1.15357266\\\\\n",
       "\t 135         & -0.30664251 &  0.46968093\\\\\n",
       "\t 136         &  0.22343706 &  0.28906696\\\\\n",
       "\t 137         & -1.89735102 &  0.63037506\\\\\n",
       "\t 138         &  1.65309376 & -1.26436436\\\\\n",
       "\t 139         & -0.65526849 &  0.30266023\\\\\n",
       "\t 140         & -0.66632164 &  0.64625602\\\\\n",
       "\t 141         &  1.93675182 & -1.24901411\\\\\n",
       "\t 142         & -0.28771155 &  0.48675532\\\\\n",
       "\t 143         & -1.44024269 &  0.46733783\\\\\n",
       "\t 144         & -1.75366042 &  1.23377518\\\\\n",
       "\t 145         & -0.07709838 &  0.86349520\\\\\n",
       "\t 146         & -0.40984409 &  0.51622128\\\\\n",
       "\t 147         & -1.72169899 &  0.74289090\\\\\n",
       "\t 148         &  2.00149705 & -0.80925742\\\\\n",
       "\t 149         &  2.03120573 & -1.03326432\\\\\n",
       "\\end{tabular}\n"
      ],
      "text/markdown": [
       "\n",
       "V1 | V2 | V3 | \n",
       "|---|---|---|---|---|---|---|---|---|---|---|---|---|---|---|---|---|---|---|---|---|---|---|---|---|---|---|---|---|---|---|---|---|---|---|---|---|---|---|---|---|---|---|---|---|---|---|---|---|---|---|---|---|---|---|---|---|---|---|---|---|\n",
       "| NA          |  0.0000000  |  1.00000000 | \n",
       "|  0          | -1.1050198  |  1.00300057 | \n",
       "|  1          | -1.5669561  |  0.63101901 | \n",
       "|  2          |  1.8066905  | -1.02243763 | \n",
       "|  3          | -1.6431772  |  1.32499840 | \n",
       "|  4          |  1.9339774  | -1.17718001 | \n",
       "|  5          | -1.4354156  |  0.63068040 | \n",
       "|  6          |  2.0313548  | -0.97753766 | \n",
       "|  7          | -1.5424755  |  0.87610143 | \n",
       "|  8          | -0.6753447  |  1.01106066 | \n",
       "|  9          | -1.3235108  |  0.26559050 | \n",
       "| 10          | -1.1964984  |  0.58503885 | \n",
       "| 11          | -0.6017263  |  0.65860984 | \n",
       "| 12          | -0.3928177  | -0.01783056 | \n",
       "| 13          |  2.0883704  | -1.21440072 | \n",
       "| 14          | -1.7189991  |  0.64319347 | \n",
       "| 15          |  1.6956338  | -1.12259966 | \n",
       "| 16          | -0.6687470  |  0.27176272 | \n",
       "| 17          | -0.6825754  |  0.31551639 | \n",
       "| 18          | -1.0721876  |  0.26083218 | \n",
       "| 19          |  1.9989453  | -1.02550956 | \n",
       "| 20          | -1.4451217  |  0.49009975 | \n",
       "| 21          |  1.8364746  | -0.84690499 | \n",
       "| 22          |  1.6422415  | -1.05114640 | \n",
       "| 23          | -0.4424536  |  0.97030343 | \n",
       "| 24          | -0.5851980  |  0.51515874 | \n",
       "| 25          | -0.4878442  |  0.12915706 | \n",
       "| 26          | -0.8688051  | -0.05797221 | \n",
       "| 27          | -2.0434181  |  1.56712213 | \n",
       "| 28          |  1.9175236  | -1.00586559 | \n",
       "| ... | ... | ... | \n",
       "| 120         |  2.52649587 | -1.20840785 | \n",
       "| 121         |  1.69825998 | -0.87848419 | \n",
       "| 122         | -0.37686201 |  0.20145576 | \n",
       "| 123         | -1.41053400 |  0.24333093 | \n",
       "| 124         | -0.22829331 |  0.41041775 | \n",
       "| 125         |  2.00659958 | -0.74842936 | \n",
       "| 126         |  2.00929946 | -0.84812678 | \n",
       "| 127         | -0.35253042 |  0.39081152 | \n",
       "| 128         | -0.49046957 |  0.25671781 | \n",
       "| 129         | -1.71049767 |  0.08334554 | \n",
       "| 130         | -1.41788841 |  0.82105647 | \n",
       "| 131         | -1.07261123 |  0.67929625 | \n",
       "| 132         |  2.29977886 | -1.48848449 | \n",
       "| 133         |  0.11783282 |  0.17508182 | \n",
       "| 134         |  2.09347289 | -1.15357266 | \n",
       "| 135         | -0.30664251 |  0.46968093 | \n",
       "| 136         |  0.22343706 |  0.28906696 | \n",
       "| 137         | -1.89735102 |  0.63037506 | \n",
       "| 138         |  1.65309376 | -1.26436436 | \n",
       "| 139         | -0.65526849 |  0.30266023 | \n",
       "| 140         | -0.66632164 |  0.64625602 | \n",
       "| 141         |  1.93675182 | -1.24901411 | \n",
       "| 142         | -0.28771155 |  0.48675532 | \n",
       "| 143         | -1.44024269 |  0.46733783 | \n",
       "| 144         | -1.75366042 |  1.23377518 | \n",
       "| 145         | -0.07709838 |  0.86349520 | \n",
       "| 146         | -0.40984409 |  0.51622128 | \n",
       "| 147         | -1.72169899 |  0.74289090 | \n",
       "| 148         |  2.00149705 | -0.80925742 | \n",
       "| 149         |  2.03120573 | -1.03326432 | \n",
       "\n",
       "\n"
      ],
      "text/plain": [
       "    V1  V2          V3         \n",
       "1   NA   0.0000000   1.00000000\n",
       "2    0  -1.1050198   1.00300057\n",
       "3    1  -1.5669561   0.63101901\n",
       "4    2   1.8066905  -1.02243763\n",
       "5    3  -1.6431772   1.32499840\n",
       "6    4   1.9339774  -1.17718001\n",
       "7    5  -1.4354156   0.63068040\n",
       "8    6   2.0313548  -0.97753766\n",
       "9    7  -1.5424755   0.87610143\n",
       "10   8  -0.6753447   1.01106066\n",
       "11   9  -1.3235108   0.26559050\n",
       "12  10  -1.1964984   0.58503885\n",
       "13  11  -0.6017263   0.65860984\n",
       "14  12  -0.3928177  -0.01783056\n",
       "15  13   2.0883704  -1.21440072\n",
       "16  14  -1.7189991   0.64319347\n",
       "17  15   1.6956338  -1.12259966\n",
       "18  16  -0.6687470   0.27176272\n",
       "19  17  -0.6825754   0.31551639\n",
       "20  18  -1.0721876   0.26083218\n",
       "21  19   1.9989453  -1.02550956\n",
       "22  20  -1.4451217   0.49009975\n",
       "23  21   1.8364746  -0.84690499\n",
       "24  22   1.6422415  -1.05114640\n",
       "25  23  -0.4424536   0.97030343\n",
       "26  24  -0.5851980   0.51515874\n",
       "27  25  -0.4878442   0.12915706\n",
       "28  26  -0.8688051  -0.05797221\n",
       "29  27  -2.0434181   1.56712213\n",
       "30  28   1.9175236  -1.00586559\n",
       "... ... ...         ...        \n",
       "122 120  2.52649587 -1.20840785\n",
       "123 121  1.69825998 -0.87848419\n",
       "124 122 -0.37686201  0.20145576\n",
       "125 123 -1.41053400  0.24333093\n",
       "126 124 -0.22829331  0.41041775\n",
       "127 125  2.00659958 -0.74842936\n",
       "128 126  2.00929946 -0.84812678\n",
       "129 127 -0.35253042  0.39081152\n",
       "130 128 -0.49046957  0.25671781\n",
       "131 129 -1.71049767  0.08334554\n",
       "132 130 -1.41788841  0.82105647\n",
       "133 131 -1.07261123  0.67929625\n",
       "134 132  2.29977886 -1.48848449\n",
       "135 133  0.11783282  0.17508182\n",
       "136 134  2.09347289 -1.15357266\n",
       "137 135 -0.30664251  0.46968093\n",
       "138 136  0.22343706  0.28906696\n",
       "139 137 -1.89735102  0.63037506\n",
       "140 138  1.65309376 -1.26436436\n",
       "141 139 -0.65526849  0.30266023\n",
       "142 140 -0.66632164  0.64625602\n",
       "143 141  1.93675182 -1.24901411\n",
       "144 142 -0.28771155  0.48675532\n",
       "145 143 -1.44024269  0.46733783\n",
       "146 144 -1.75366042  1.23377518\n",
       "147 145 -0.07709838  0.86349520\n",
       "148 146 -0.40984409  0.51622128\n",
       "149 147 -1.72169899  0.74289090\n",
       "150 148  2.00149705 -0.80925742\n",
       "151 149  2.03120573 -1.03326432"
      ]
     },
     "metadata": {},
     "output_type": "display_data"
    }
   ],
   "source": [
    "df1<-read.csv(file=\"C:/Users/Arnav/PCA1.csv\",head=FALSE,sep=\",\")\n",
    "df1"
   ]
  },
  {
   "cell_type": "markdown",
   "metadata": {},
   "source": [
    "##### PCA plot for Dataset 1"
   ]
  },
  {
   "cell_type": "code",
   "execution_count": 7,
   "metadata": {
    "collapsed": false
   },
   "outputs": [
    {
     "data": {},
     "metadata": {},
     "output_type": "display_data"
    },
    {
     "data": {
      "image/png": "[encoded data removed]",
      "text/plain": [
       "plot without title"
      ]
     },
     "metadata": {},
     "output_type": "display_data"
    }
   ],
   "source": [
    "ggplot(data=df1, aes(x=V2, y=V3,colour=V2)) + geom_point()"
   ]
  },
  {
   "cell_type": "markdown",
   "metadata": {},
   "source": [
    "##### Reading CSV for SVD"
   ]
  },
  {
   "cell_type": "code",
   "execution_count": 8,
   "metadata": {
    "collapsed": false
   },
   "outputs": [
    {
     "data": {
      "text/html": [
       "<table>\n",
       "<thead><tr><th scope=col>V1</th><th scope=col>V2</th><th scope=col>V3</th></tr></thead>\n",
       "<tbody>\n",
       "\t<tr><td>NA        </td><td> 0.000000 </td><td> 1.0000000</td></tr>\n",
       "\t<tr><td> 0        </td><td> 8.884672 </td><td>-1.1825106</td></tr>\n",
       "\t<tr><td> 1        </td><td> 9.749951 </td><td>-1.2220163</td></tr>\n",
       "\t<tr><td> 2        </td><td> 6.656607 </td><td> 1.9789137</td></tr>\n",
       "\t<tr><td> 3        </td><td>10.795645 </td><td>-1.3609261</td></tr>\n",
       "\t<tr><td> 4        </td><td> 5.942684 </td><td> 1.9752442</td></tr>\n",
       "\t<tr><td> 5        </td><td> 9.977078 </td><td>-0.9283062</td></tr>\n",
       "\t<tr><td> 6        </td><td> 6.638854 </td><td> 2.1402926</td></tr>\n",
       "\t<tr><td> 7        </td><td>10.735436 </td><td>-1.0867750</td></tr>\n",
       "\t<tr><td> 8        </td><td> 8.774445 </td><td>-0.7727551</td></tr>\n",
       "\t<tr><td> 9        </td><td> 9.238428 </td><td>-0.9212069</td></tr>\n",
       "\t<tr><td>10        </td><td> 9.153567 </td><td>-1.0010234</td></tr>\n",
       "\t<tr><td>11        </td><td> 9.283364 </td><td>-0.4202207</td></tr>\n",
       "\t<tr><td>12        </td><td> 8.404226 </td><td>-0.1378820</td></tr>\n",
       "\t<tr><td>13        </td><td> 6.592980 </td><td> 2.2971059</td></tr>\n",
       "\t<tr><td>14        </td><td>10.460205 </td><td>-1.1140607</td></tr>\n",
       "\t<tr><td>15        </td><td> 6.735909 </td><td> 1.9728208</td></tr>\n",
       "\t<tr><td>16        </td><td> 8.604398 </td><td>-0.5074065</td></tr>\n",
       "\t<tr><td>17        </td><td> 8.904104 </td><td>-0.4306446</td></tr>\n",
       "\t<tr><td>18        </td><td> 9.157599 </td><td>-0.6808772</td></tr>\n",
       "\t<tr><td>19        </td><td> 6.565386 </td><td> 2.1126743</td></tr>\n",
       "\t<tr><td>20        </td><td> 9.851014 </td><td>-1.0099665</td></tr>\n",
       "\t<tr><td>21        </td><td> 6.351341 </td><td> 1.8162423</td></tr>\n",
       "\t<tr><td>22        </td><td> 6.624180 </td><td> 1.7738226</td></tr>\n",
       "\t<tr><td>23        </td><td> 8.796206 </td><td>-0.5546123</td></tr>\n",
       "\t<tr><td>24        </td><td> 9.600274 </td><td>-0.2655961</td></tr>\n",
       "\t<tr><td>25        </td><td> 8.715852 </td><td>-0.1887877</td></tr>\n",
       "\t<tr><td>26        </td><td> 8.502809 </td><td>-0.5395905</td></tr>\n",
       "\t<tr><td>27        </td><td>11.344540 </td><td>-1.7349222</td></tr>\n",
       "\t<tr><td>28        </td><td> 5.863657 </td><td> 1.8617164</td></tr>\n",
       "\t<tr><td>...</td><td>...</td><td>...</td></tr>\n",
       "\t<tr><td>120        </td><td> 7.235915  </td><td> 2.88691543</td></tr>\n",
       "\t<tr><td>121        </td><td> 6.761888  </td><td> 1.84743595</td></tr>\n",
       "\t<tr><td>122        </td><td> 8.398667  </td><td>-0.22379145</td></tr>\n",
       "\t<tr><td>123        </td><td> 8.875920  </td><td>-1.03863885</td></tr>\n",
       "\t<tr><td>124        </td><td> 8.321781  </td><td>-0.20736873</td></tr>\n",
       "\t<tr><td>125        </td><td> 6.282430  </td><td> 1.92890423</td></tr>\n",
       "\t<tr><td>126        </td><td> 6.899047  </td><td> 2.16029073</td></tr>\n",
       "\t<tr><td>127        </td><td> 8.908387  </td><td>-0.17074355</td></tr>\n",
       "\t<tr><td>128        </td><td> 8.337118  </td><td>-0.37907742</td></tr>\n",
       "\t<tr><td>129        </td><td> 9.870657  </td><td>-0.98114978</td></tr>\n",
       "\t<tr><td>130        </td><td> 9.404897  </td><td>-1.32183096</td></tr>\n",
       "\t<tr><td>131        </td><td> 9.310895  </td><td>-0.83921773</td></tr>\n",
       "\t<tr><td>132        </td><td> 7.197403  </td><td> 2.77578073</td></tr>\n",
       "\t<tr><td>133        </td><td> 7.215678  </td><td>-0.03942364</td></tr>\n",
       "\t<tr><td>134        </td><td> 6.521928  </td><td> 2.27981733</td></tr>\n",
       "\t<tr><td>135        </td><td> 9.426082  </td><td>-0.02145641</td></tr>\n",
       "\t<tr><td>136        </td><td> 7.951361  </td><td> 0.18238865</td></tr>\n",
       "\t<tr><td>137        </td><td>10.489602  </td><td>-1.28348654</td></tr>\n",
       "\t<tr><td>138        </td><td> 7.042427  </td><td> 2.02087626</td></tr>\n",
       "\t<tr><td>139        </td><td> 9.048625  </td><td>-0.38573771</td></tr>\n",
       "\t<tr><td>140        </td><td> 9.850076  </td><td>-0.35216706</td></tr>\n",
       "\t<tr><td>141        </td><td> 6.797183  </td><td> 2.24772745</td></tr>\n",
       "\t<tr><td>142        </td><td> 9.055323  </td><td>-0.11550693</td></tr>\n",
       "\t<tr><td>143        </td><td> 9.066314  </td><td>-1.15054524</td></tr>\n",
       "\t<tr><td>144        </td><td>10.844661  </td><td>-1.44215963</td></tr>\n",
       "\t<tr><td>145        </td><td> 8.270875  </td><td>-0.31633081</td></tr>\n",
       "\t<tr><td>146        </td><td> 8.002730  </td><td>-0.49194373</td></tr>\n",
       "\t<tr><td>147        </td><td> 9.843588  </td><td>-1.34544718</td></tr>\n",
       "\t<tr><td>148        </td><td> 6.353482  </td><td> 1.94619277</td></tr>\n",
       "\t<tr><td>149        </td><td> 6.163089  </td><td> 2.05809915</td></tr>\n",
       "</tbody>\n",
       "</table>\n"
      ],
      "text/latex": [
       "\\begin{tabular}{r|lll}\n",
       " V1 & V2 & V3\\\\\n",
       "\\hline\n",
       "\t NA         &  0.000000  &  1.0000000\\\\\n",
       "\t  0         &  8.884672  & -1.1825106\\\\\n",
       "\t  1         &  9.749951  & -1.2220163\\\\\n",
       "\t  2         &  6.656607  &  1.9789137\\\\\n",
       "\t  3         & 10.795645  & -1.3609261\\\\\n",
       "\t  4         &  5.942684  &  1.9752442\\\\\n",
       "\t  5         &  9.977078  & -0.9283062\\\\\n",
       "\t  6         &  6.638854  &  2.1402926\\\\\n",
       "\t  7         & 10.735436  & -1.0867750\\\\\n",
       "\t  8         &  8.774445  & -0.7727551\\\\\n",
       "\t  9         &  9.238428  & -0.9212069\\\\\n",
       "\t 10         &  9.153567  & -1.0010234\\\\\n",
       "\t 11         &  9.283364  & -0.4202207\\\\\n",
       "\t 12         &  8.404226  & -0.1378820\\\\\n",
       "\t 13         &  6.592980  &  2.2971059\\\\\n",
       "\t 14         & 10.460205  & -1.1140607\\\\\n",
       "\t 15         &  6.735909  &  1.9728208\\\\\n",
       "\t 16         &  8.604398  & -0.5074065\\\\\n",
       "\t 17         &  8.904104  & -0.4306446\\\\\n",
       "\t 18         &  9.157599  & -0.6808772\\\\\n",
       "\t 19         &  6.565386  &  2.1126743\\\\\n",
       "\t 20         &  9.851014  & -1.0099665\\\\\n",
       "\t 21         &  6.351341  &  1.8162423\\\\\n",
       "\t 22         &  6.624180  &  1.7738226\\\\\n",
       "\t 23         &  8.796206  & -0.5546123\\\\\n",
       "\t 24         &  9.600274  & -0.2655961\\\\\n",
       "\t 25         &  8.715852  & -0.1887877\\\\\n",
       "\t 26         &  8.502809  & -0.5395905\\\\\n",
       "\t 27         & 11.344540  & -1.7349222\\\\\n",
       "\t 28         &  5.863657  &  1.8617164\\\\\n",
       "\t ... & ... & ...\\\\\n",
       "\t 120         &  7.235915   &  2.88691543\\\\\n",
       "\t 121         &  6.761888   &  1.84743595\\\\\n",
       "\t 122         &  8.398667   & -0.22379145\\\\\n",
       "\t 123         &  8.875920   & -1.03863885\\\\\n",
       "\t 124         &  8.321781   & -0.20736873\\\\\n",
       "\t 125         &  6.282430   &  1.92890423\\\\\n",
       "\t 126         &  6.899047   &  2.16029073\\\\\n",
       "\t 127         &  8.908387   & -0.17074355\\\\\n",
       "\t 128         &  8.337118   & -0.37907742\\\\\n",
       "\t 129         &  9.870657   & -0.98114978\\\\\n",
       "\t 130         &  9.404897   & -1.32183096\\\\\n",
       "\t 131         &  9.310895   & -0.83921773\\\\\n",
       "\t 132         &  7.197403   &  2.77578073\\\\\n",
       "\t 133         &  7.215678   & -0.03942364\\\\\n",
       "\t 134         &  6.521928   &  2.27981733\\\\\n",
       "\t 135         &  9.426082   & -0.02145641\\\\\n",
       "\t 136         &  7.951361   &  0.18238865\\\\\n",
       "\t 137         & 10.489602   & -1.28348654\\\\\n",
       "\t 138         &  7.042427   &  2.02087626\\\\\n",
       "\t 139         &  9.048625   & -0.38573771\\\\\n",
       "\t 140         &  9.850076   & -0.35216706\\\\\n",
       "\t 141         &  6.797183   &  2.24772745\\\\\n",
       "\t 142         &  9.055323   & -0.11550693\\\\\n",
       "\t 143         &  9.066314   & -1.15054524\\\\\n",
       "\t 144         & 10.844661   & -1.44215963\\\\\n",
       "\t 145         &  8.270875   & -0.31633081\\\\\n",
       "\t 146         &  8.002730   & -0.49194373\\\\\n",
       "\t 147         &  9.843588   & -1.34544718\\\\\n",
       "\t 148         &  6.353482   &  1.94619277\\\\\n",
       "\t 149         &  6.163089   &  2.05809915\\\\\n",
       "\\end{tabular}\n"
      ],
      "text/markdown": [
       "\n",
       "V1 | V2 | V3 | \n",
       "|---|---|---|---|---|---|---|---|---|---|---|---|---|---|---|---|---|---|---|---|---|---|---|---|---|---|---|---|---|---|---|---|---|---|---|---|---|---|---|---|---|---|---|---|---|---|---|---|---|---|---|---|---|---|---|---|---|---|---|---|---|\n",
       "| NA         |  0.000000  |  1.0000000 | \n",
       "|  0         |  8.884672  | -1.1825106 | \n",
       "|  1         |  9.749951  | -1.2220163 | \n",
       "|  2         |  6.656607  |  1.9789137 | \n",
       "|  3         | 10.795645  | -1.3609261 | \n",
       "|  4         |  5.942684  |  1.9752442 | \n",
       "|  5         |  9.977078  | -0.9283062 | \n",
       "|  6         |  6.638854  |  2.1402926 | \n",
       "|  7         | 10.735436  | -1.0867750 | \n",
       "|  8         |  8.774445  | -0.7727551 | \n",
       "|  9         |  9.238428  | -0.9212069 | \n",
       "| 10         |  9.153567  | -1.0010234 | \n",
       "| 11         |  9.283364  | -0.4202207 | \n",
       "| 12         |  8.404226  | -0.1378820 | \n",
       "| 13         |  6.592980  |  2.2971059 | \n",
       "| 14         | 10.460205  | -1.1140607 | \n",
       "| 15         |  6.735909  |  1.9728208 | \n",
       "| 16         |  8.604398  | -0.5074065 | \n",
       "| 17         |  8.904104  | -0.4306446 | \n",
       "| 18         |  9.157599  | -0.6808772 | \n",
       "| 19         |  6.565386  |  2.1126743 | \n",
       "| 20         |  9.851014  | -1.0099665 | \n",
       "| 21         |  6.351341  |  1.8162423 | \n",
       "| 22         |  6.624180  |  1.7738226 | \n",
       "| 23         |  8.796206  | -0.5546123 | \n",
       "| 24         |  9.600274  | -0.2655961 | \n",
       "| 25         |  8.715852  | -0.1887877 | \n",
       "| 26         |  8.502809  | -0.5395905 | \n",
       "| 27         | 11.344540  | -1.7349222 | \n",
       "| 28         |  5.863657  |  1.8617164 | \n",
       "| ... | ... | ... | \n",
       "| 120         |  7.235915   |  2.88691543 | \n",
       "| 121         |  6.761888   |  1.84743595 | \n",
       "| 122         |  8.398667   | -0.22379145 | \n",
       "| 123         |  8.875920   | -1.03863885 | \n",
       "| 124         |  8.321781   | -0.20736873 | \n",
       "| 125         |  6.282430   |  1.92890423 | \n",
       "| 126         |  6.899047   |  2.16029073 | \n",
       "| 127         |  8.908387   | -0.17074355 | \n",
       "| 128         |  8.337118   | -0.37907742 | \n",
       "| 129         |  9.870657   | -0.98114978 | \n",
       "| 130         |  9.404897   | -1.32183096 | \n",
       "| 131         |  9.310895   | -0.83921773 | \n",
       "| 132         |  7.197403   |  2.77578073 | \n",
       "| 133         |  7.215678   | -0.03942364 | \n",
       "| 134         |  6.521928   |  2.27981733 | \n",
       "| 135         |  9.426082   | -0.02145641 | \n",
       "| 136         |  7.951361   |  0.18238865 | \n",
       "| 137         | 10.489602   | -1.28348654 | \n",
       "| 138         |  7.042427   |  2.02087626 | \n",
       "| 139         |  9.048625   | -0.38573771 | \n",
       "| 140         |  9.850076   | -0.35216706 | \n",
       "| 141         |  6.797183   |  2.24772745 | \n",
       "| 142         |  9.055323   | -0.11550693 | \n",
       "| 143         |  9.066314   | -1.15054524 | \n",
       "| 144         | 10.844661   | -1.44215963 | \n",
       "| 145         |  8.270875   | -0.31633081 | \n",
       "| 146         |  8.002730   | -0.49194373 | \n",
       "| 147         |  9.843588   | -1.34544718 | \n",
       "| 148         |  6.353482   |  1.94619277 | \n",
       "| 149         |  6.163089   |  2.05809915 | \n",
       "\n",
       "\n"
      ],
      "text/plain": [
       "    V1  V2        V3         \n",
       "1   NA   0.000000  1.0000000 \n",
       "2    0   8.884672 -1.1825106 \n",
       "3    1   9.749951 -1.2220163 \n",
       "4    2   6.656607  1.9789137 \n",
       "5    3  10.795645 -1.3609261 \n",
       "6    4   5.942684  1.9752442 \n",
       "7    5   9.977078 -0.9283062 \n",
       "8    6   6.638854  2.1402926 \n",
       "9    7  10.735436 -1.0867750 \n",
       "10   8   8.774445 -0.7727551 \n",
       "11   9   9.238428 -0.9212069 \n",
       "12  10   9.153567 -1.0010234 \n",
       "13  11   9.283364 -0.4202207 \n",
       "14  12   8.404226 -0.1378820 \n",
       "15  13   6.592980  2.2971059 \n",
       "16  14  10.460205 -1.1140607 \n",
       "17  15   6.735909  1.9728208 \n",
       "18  16   8.604398 -0.5074065 \n",
       "19  17   8.904104 -0.4306446 \n",
       "20  18   9.157599 -0.6808772 \n",
       "21  19   6.565386  2.1126743 \n",
       "22  20   9.851014 -1.0099665 \n",
       "23  21   6.351341  1.8162423 \n",
       "24  22   6.624180  1.7738226 \n",
       "25  23   8.796206 -0.5546123 \n",
       "26  24   9.600274 -0.2655961 \n",
       "27  25   8.715852 -0.1887877 \n",
       "28  26   8.502809 -0.5395905 \n",
       "29  27  11.344540 -1.7349222 \n",
       "30  28   5.863657  1.8617164 \n",
       "... ... ...       ...        \n",
       "122 120  7.235915  2.88691543\n",
       "123 121  6.761888  1.84743595\n",
       "124 122  8.398667 -0.22379145\n",
       "125 123  8.875920 -1.03863885\n",
       "126 124  8.321781 -0.20736873\n",
       "127 125  6.282430  1.92890423\n",
       "128 126  6.899047  2.16029073\n",
       "129 127  8.908387 -0.17074355\n",
       "130 128  8.337118 -0.37907742\n",
       "131 129  9.870657 -0.98114978\n",
       "132 130  9.404897 -1.32183096\n",
       "133 131  9.310895 -0.83921773\n",
       "134 132  7.197403  2.77578073\n",
       "135 133  7.215678 -0.03942364\n",
       "136 134  6.521928  2.27981733\n",
       "137 135  9.426082 -0.02145641\n",
       "138 136  7.951361  0.18238865\n",
       "139 137 10.489602 -1.28348654\n",
       "140 138  7.042427  2.02087626\n",
       "141 139  9.048625 -0.38573771\n",
       "142 140  9.850076 -0.35216706\n",
       "143 141  6.797183  2.24772745\n",
       "144 142  9.055323 -0.11550693\n",
       "145 143  9.066314 -1.15054524\n",
       "146 144 10.844661 -1.44215963\n",
       "147 145  8.270875 -0.31633081\n",
       "148 146  8.002730 -0.49194373\n",
       "149 147  9.843588 -1.34544718\n",
       "150 148  6.353482  1.94619277\n",
       "151 149  6.163089  2.05809915"
      ]
     },
     "metadata": {},
     "output_type": "display_data"
    }
   ],
   "source": [
    "df2<-read.csv(file=\"C:/Users/Arnav/SVD1.csv\",head=FALSE,sep=\",\")\n",
    "df2"
   ]
  },
  {
   "cell_type": "markdown",
   "metadata": {},
   "source": [
    "##### SVD plot for Dataset 1"
   ]
  },
  {
   "cell_type": "code",
   "execution_count": 9,
   "metadata": {
    "collapsed": false
   },
   "outputs": [
    {
     "data": {},
     "metadata": {},
     "output_type": "display_data"
    },
    {
     "data": {
      "image/png": "[encoded data removed]",
      "text/plain": [
       "plot without title"
      ]
     },
     "metadata": {},
     "output_type": "display_data"
    }
   ],
   "source": [
    "ggplot(data=df2, aes(x=V2, y=V3,colour=V3)) + geom_point()"
   ]
  },
  {
   "cell_type": "markdown",
   "metadata": {},
   "source": [
    "##### Reading CSV for TSNE"
   ]
  },
  {
   "cell_type": "code",
   "execution_count": 10,
   "metadata": {
    "collapsed": false
   },
   "outputs": [
    {
     "data": {
      "text/html": [
       "<table>\n",
       "<thead><tr><th scope=col>V1</th><th scope=col>V2</th><th scope=col>V3</th></tr></thead>\n",
       "<tbody>\n",
       "\t<tr><td>NA         </td><td>  0.0000000</td><td>  1.000000 </td></tr>\n",
       "\t<tr><td> 0         </td><td> -0.5968641</td><td> 42.844067 </td></tr>\n",
       "\t<tr><td> 1         </td><td>-38.5374466</td><td> 32.750920 </td></tr>\n",
       "\t<tr><td> 2         </td><td>-17.1889847</td><td>-35.114710 </td></tr>\n",
       "\t<tr><td> 3         </td><td>-73.4450994</td><td> 11.463070 </td></tr>\n",
       "\t<tr><td> 4         </td><td>-14.7704238</td><td>-59.177926 </td></tr>\n",
       "\t<tr><td> 5         </td><td>-34.8317647</td><td> 24.225680 </td></tr>\n",
       "\t<tr><td> 6         </td><td> 17.5063000</td><td>-38.129801 </td></tr>\n",
       "\t<tr><td> 7         </td><td>-66.3656092</td><td> 14.928605 </td></tr>\n",
       "\t<tr><td> 8         </td><td> -3.4064470</td><td>  7.804575 </td></tr>\n",
       "\t<tr><td> 9         </td><td>-16.3158947</td><td> 40.644376 </td></tr>\n",
       "\t<tr><td>10         </td><td> -5.2671443</td><td> 34.165023 </td></tr>\n",
       "\t<tr><td>11         </td><td> -4.0269157</td><td> 15.681499 </td></tr>\n",
       "\t<tr><td>12         </td><td> 26.8318332</td><td> 41.611343 </td></tr>\n",
       "\t<tr><td>13         </td><td> 30.2963527</td><td>-39.543614 </td></tr>\n",
       "\t<tr><td>14         </td><td>-57.7389297</td><td> 17.194367 </td></tr>\n",
       "\t<tr><td>15         </td><td> 27.4012570</td><td>-56.576640 </td></tr>\n",
       "\t<tr><td>16         </td><td> 18.7290700</td><td> 27.759794 </td></tr>\n",
       "\t<tr><td>17         </td><td> 12.9795366</td><td> 21.568196 </td></tr>\n",
       "\t<tr><td>18         </td><td>-17.7873747</td><td> 16.755265 </td></tr>\n",
       "\t<tr><td>19         </td><td>  9.8713837</td><td> 35.466910 </td></tr>\n",
       "\t<tr><td>20         </td><td>-45.3266078</td><td>  8.988611 </td></tr>\n",
       "\t<tr><td>21         </td><td>  6.3049735</td><td>-58.498252 </td></tr>\n",
       "\t<tr><td>22         </td><td>  9.1063932</td><td>-49.285157 </td></tr>\n",
       "\t<tr><td>23         </td><td> 12.0970521</td><td> 12.234725 </td></tr>\n",
       "\t<tr><td>24         </td><td> 56.0793070</td><td>  7.477630 </td></tr>\n",
       "\t<tr><td>25         </td><td> 20.0721522</td><td> 12.749081 </td></tr>\n",
       "\t<tr><td>26         </td><td> 22.3179280</td><td> 21.727122 </td></tr>\n",
       "\t<tr><td>27         </td><td>-54.9085803</td><td>-47.556796 </td></tr>\n",
       "\t<tr><td>28         </td><td>-15.0259330</td><td>-45.338107 </td></tr>\n",
       "\t<tr><td>...</td><td>...</td><td>...</td></tr>\n",
       "\t<tr><td>120        </td><td> 49.160710 </td><td>-24.2483499</td></tr>\n",
       "\t<tr><td>121        </td><td> 14.646165 </td><td>-29.1102277</td></tr>\n",
       "\t<tr><td>122        </td><td> 26.040220 </td><td> 29.2068107</td></tr>\n",
       "\t<tr><td>123        </td><td>-24.351620 </td><td> 27.9917396</td></tr>\n",
       "\t<tr><td>124        </td><td> 46.610027 </td><td> 26.1228498</td></tr>\n",
       "\t<tr><td>125        </td><td> -4.307280 </td><td>-50.9708168</td></tr>\n",
       "\t<tr><td>126        </td><td> 22.834242 </td><td>-27.4501285</td></tr>\n",
       "\t<tr><td>127        </td><td>-20.195383 </td><td> 52.2093523</td></tr>\n",
       "\t<tr><td>128        </td><td> 40.408070 </td><td> 21.0728192</td></tr>\n",
       "\t<tr><td>129        </td><td>-44.166240 </td><td> -2.5093311</td></tr>\n",
       "\t<tr><td>130        </td><td> -7.048576 </td><td> 51.1082412</td></tr>\n",
       "\t<tr><td>131        </td><td>-12.676318 </td><td> 34.2526188</td></tr>\n",
       "\t<tr><td>132        </td><td> 50.803012 </td><td>-31.7454608</td></tr>\n",
       "\t<tr><td>133        </td><td> 31.522807 </td><td> 23.1273947</td></tr>\n",
       "\t<tr><td>134        </td><td> 22.288465 </td><td>-50.5871169</td></tr>\n",
       "\t<tr><td>135        </td><td> 60.054867 </td><td> -0.6516361</td></tr>\n",
       "\t<tr><td>136        </td><td> 44.707578 </td><td> 45.8846706</td></tr>\n",
       "\t<tr><td>137        </td><td>-40.463510 </td><td> 12.9720215</td></tr>\n",
       "\t<tr><td>138        </td><td> 32.803846 </td><td>-23.7221914</td></tr>\n",
       "\t<tr><td>139        </td><td>  8.172678 </td><td> 17.9673360</td></tr>\n",
       "\t<tr><td>140        </td><td>-13.841792 </td><td>  0.6933498</td></tr>\n",
       "\t<tr><td>141        </td><td> 35.190509 </td><td>-43.9272894</td></tr>\n",
       "\t<tr><td>142        </td><td>  3.560378 </td><td> 23.2415007</td></tr>\n",
       "\t<tr><td>143        </td><td>-22.186984 </td><td> 35.7449831</td></tr>\n",
       "\t<tr><td>144        </td><td>-72.033630 </td><td> 18.8564005</td></tr>\n",
       "\t<tr><td>145        </td><td> 54.762701 </td><td> 31.7142233</td></tr>\n",
       "\t<tr><td>146        </td><td> 40.788665 </td><td> 31.6180967</td></tr>\n",
       "\t<tr><td>147        </td><td>-45.144046 </td><td> 31.5446283</td></tr>\n",
       "\t<tr><td>148        </td><td> -6.982419 </td><td>-44.8343168</td></tr>\n",
       "\t<tr><td>149        </td><td>  2.917907 </td><td>-52.8713471</td></tr>\n",
       "</tbody>\n",
       "</table>\n"
      ],
      "text/latex": [
       "\\begin{tabular}{r|lll}\n",
       " V1 & V2 & V3\\\\\n",
       "\\hline\n",
       "\t NA          &   0.0000000 &   1.000000 \\\\\n",
       "\t  0          &  -0.5968641 &  42.844067 \\\\\n",
       "\t  1          & -38.5374466 &  32.750920 \\\\\n",
       "\t  2          & -17.1889847 & -35.114710 \\\\\n",
       "\t  3          & -73.4450994 &  11.463070 \\\\\n",
       "\t  4          & -14.7704238 & -59.177926 \\\\\n",
       "\t  5          & -34.8317647 &  24.225680 \\\\\n",
       "\t  6          &  17.5063000 & -38.129801 \\\\\n",
       "\t  7          & -66.3656092 &  14.928605 \\\\\n",
       "\t  8          &  -3.4064470 &   7.804575 \\\\\n",
       "\t  9          & -16.3158947 &  40.644376 \\\\\n",
       "\t 10          &  -5.2671443 &  34.165023 \\\\\n",
       "\t 11          &  -4.0269157 &  15.681499 \\\\\n",
       "\t 12          &  26.8318332 &  41.611343 \\\\\n",
       "\t 13          &  30.2963527 & -39.543614 \\\\\n",
       "\t 14          & -57.7389297 &  17.194367 \\\\\n",
       "\t 15          &  27.4012570 & -56.576640 \\\\\n",
       "\t 16          &  18.7290700 &  27.759794 \\\\\n",
       "\t 17          &  12.9795366 &  21.568196 \\\\\n",
       "\t 18          & -17.7873747 &  16.755265 \\\\\n",
       "\t 19          &   9.8713837 &  35.466910 \\\\\n",
       "\t 20          & -45.3266078 &   8.988611 \\\\\n",
       "\t 21          &   6.3049735 & -58.498252 \\\\\n",
       "\t 22          &   9.1063932 & -49.285157 \\\\\n",
       "\t 23          &  12.0970521 &  12.234725 \\\\\n",
       "\t 24          &  56.0793070 &   7.477630 \\\\\n",
       "\t 25          &  20.0721522 &  12.749081 \\\\\n",
       "\t 26          &  22.3179280 &  21.727122 \\\\\n",
       "\t 27          & -54.9085803 & -47.556796 \\\\\n",
       "\t 28          & -15.0259330 & -45.338107 \\\\\n",
       "\t ... & ... & ...\\\\\n",
       "\t 120         &  49.160710  & -24.2483499\\\\\n",
       "\t 121         &  14.646165  & -29.1102277\\\\\n",
       "\t 122         &  26.040220  &  29.2068107\\\\\n",
       "\t 123         & -24.351620  &  27.9917396\\\\\n",
       "\t 124         &  46.610027  &  26.1228498\\\\\n",
       "\t 125         &  -4.307280  & -50.9708168\\\\\n",
       "\t 126         &  22.834242  & -27.4501285\\\\\n",
       "\t 127         & -20.195383  &  52.2093523\\\\\n",
       "\t 128         &  40.408070  &  21.0728192\\\\\n",
       "\t 129         & -44.166240  &  -2.5093311\\\\\n",
       "\t 130         &  -7.048576  &  51.1082412\\\\\n",
       "\t 131         & -12.676318  &  34.2526188\\\\\n",
       "\t 132         &  50.803012  & -31.7454608\\\\\n",
       "\t 133         &  31.522807  &  23.1273947\\\\\n",
       "\t 134         &  22.288465  & -50.5871169\\\\\n",
       "\t 135         &  60.054867  &  -0.6516361\\\\\n",
       "\t 136         &  44.707578  &  45.8846706\\\\\n",
       "\t 137         & -40.463510  &  12.9720215\\\\\n",
       "\t 138         &  32.803846  & -23.7221914\\\\\n",
       "\t 139         &   8.172678  &  17.9673360\\\\\n",
       "\t 140         & -13.841792  &   0.6933498\\\\\n",
       "\t 141         &  35.190509  & -43.9272894\\\\\n",
       "\t 142         &   3.560378  &  23.2415007\\\\\n",
       "\t 143         & -22.186984  &  35.7449831\\\\\n",
       "\t 144         & -72.033630  &  18.8564005\\\\\n",
       "\t 145         &  54.762701  &  31.7142233\\\\\n",
       "\t 146         &  40.788665  &  31.6180967\\\\\n",
       "\t 147         & -45.144046  &  31.5446283\\\\\n",
       "\t 148         &  -6.982419  & -44.8343168\\\\\n",
       "\t 149         &   2.917907  & -52.8713471\\\\\n",
       "\\end{tabular}\n"
      ],
      "text/markdown": [
       "\n",
       "V1 | V2 | V3 | \n",
       "|---|---|---|---|---|---|---|---|---|---|---|---|---|---|---|---|---|---|---|---|---|---|---|---|---|---|---|---|---|---|---|---|---|---|---|---|---|---|---|---|---|---|---|---|---|---|---|---|---|---|---|---|---|---|---|---|---|---|---|---|---|\n",
       "| NA          |   0.0000000 |   1.000000  | \n",
       "|  0          |  -0.5968641 |  42.844067  | \n",
       "|  1          | -38.5374466 |  32.750920  | \n",
       "|  2          | -17.1889847 | -35.114710  | \n",
       "|  3          | -73.4450994 |  11.463070  | \n",
       "|  4          | -14.7704238 | -59.177926  | \n",
       "|  5          | -34.8317647 |  24.225680  | \n",
       "|  6          |  17.5063000 | -38.129801  | \n",
       "|  7          | -66.3656092 |  14.928605  | \n",
       "|  8          |  -3.4064470 |   7.804575  | \n",
       "|  9          | -16.3158947 |  40.644376  | \n",
       "| 10          |  -5.2671443 |  34.165023  | \n",
       "| 11          |  -4.0269157 |  15.681499  | \n",
       "| 12          |  26.8318332 |  41.611343  | \n",
       "| 13          |  30.2963527 | -39.543614  | \n",
       "| 14          | -57.7389297 |  17.194367  | \n",
       "| 15          |  27.4012570 | -56.576640  | \n",
       "| 16          |  18.7290700 |  27.759794  | \n",
       "| 17          |  12.9795366 |  21.568196  | \n",
       "| 18          | -17.7873747 |  16.755265  | \n",
       "| 19          |   9.8713837 |  35.466910  | \n",
       "| 20          | -45.3266078 |   8.988611  | \n",
       "| 21          |   6.3049735 | -58.498252  | \n",
       "| 22          |   9.1063932 | -49.285157  | \n",
       "| 23          |  12.0970521 |  12.234725  | \n",
       "| 24          |  56.0793070 |   7.477630  | \n",
       "| 25          |  20.0721522 |  12.749081  | \n",
       "| 26          |  22.3179280 |  21.727122  | \n",
       "| 27          | -54.9085803 | -47.556796  | \n",
       "| 28          | -15.0259330 | -45.338107  | \n",
       "| ... | ... | ... | \n",
       "| 120         |  49.160710  | -24.2483499 | \n",
       "| 121         |  14.646165  | -29.1102277 | \n",
       "| 122         |  26.040220  |  29.2068107 | \n",
       "| 123         | -24.351620  |  27.9917396 | \n",
       "| 124         |  46.610027  |  26.1228498 | \n",
       "| 125         |  -4.307280  | -50.9708168 | \n",
       "| 126         |  22.834242  | -27.4501285 | \n",
       "| 127         | -20.195383  |  52.2093523 | \n",
       "| 128         |  40.408070  |  21.0728192 | \n",
       "| 129         | -44.166240  |  -2.5093311 | \n",
       "| 130         |  -7.048576  |  51.1082412 | \n",
       "| 131         | -12.676318  |  34.2526188 | \n",
       "| 132         |  50.803012  | -31.7454608 | \n",
       "| 133         |  31.522807  |  23.1273947 | \n",
       "| 134         |  22.288465  | -50.5871169 | \n",
       "| 135         |  60.054867  |  -0.6516361 | \n",
       "| 136         |  44.707578  |  45.8846706 | \n",
       "| 137         | -40.463510  |  12.9720215 | \n",
       "| 138         |  32.803846  | -23.7221914 | \n",
       "| 139         |   8.172678  |  17.9673360 | \n",
       "| 140         | -13.841792  |   0.6933498 | \n",
       "| 141         |  35.190509  | -43.9272894 | \n",
       "| 142         |   3.560378  |  23.2415007 | \n",
       "| 143         | -22.186984  |  35.7449831 | \n",
       "| 144         | -72.033630  |  18.8564005 | \n",
       "| 145         |  54.762701  |  31.7142233 | \n",
       "| 146         |  40.788665  |  31.6180967 | \n",
       "| 147         | -45.144046  |  31.5446283 | \n",
       "| 148         |  -6.982419  | -44.8343168 | \n",
       "| 149         |   2.917907  | -52.8713471 | \n",
       "\n",
       "\n"
      ],
      "text/plain": [
       "    V1  V2          V3         \n",
       "1   NA    0.0000000   1.000000 \n",
       "2    0   -0.5968641  42.844067 \n",
       "3    1  -38.5374466  32.750920 \n",
       "4    2  -17.1889847 -35.114710 \n",
       "5    3  -73.4450994  11.463070 \n",
       "6    4  -14.7704238 -59.177926 \n",
       "7    5  -34.8317647  24.225680 \n",
       "8    6   17.5063000 -38.129801 \n",
       "9    7  -66.3656092  14.928605 \n",
       "10   8   -3.4064470   7.804575 \n",
       "11   9  -16.3158947  40.644376 \n",
       "12  10   -5.2671443  34.165023 \n",
       "13  11   -4.0269157  15.681499 \n",
       "14  12   26.8318332  41.611343 \n",
       "15  13   30.2963527 -39.543614 \n",
       "16  14  -57.7389297  17.194367 \n",
       "17  15   27.4012570 -56.576640 \n",
       "18  16   18.7290700  27.759794 \n",
       "19  17   12.9795366  21.568196 \n",
       "20  18  -17.7873747  16.755265 \n",
       "21  19    9.8713837  35.466910 \n",
       "22  20  -45.3266078   8.988611 \n",
       "23  21    6.3049735 -58.498252 \n",
       "24  22    9.1063932 -49.285157 \n",
       "25  23   12.0970521  12.234725 \n",
       "26  24   56.0793070   7.477630 \n",
       "27  25   20.0721522  12.749081 \n",
       "28  26   22.3179280  21.727122 \n",
       "29  27  -54.9085803 -47.556796 \n",
       "30  28  -15.0259330 -45.338107 \n",
       "... ... ...         ...        \n",
       "122 120  49.160710  -24.2483499\n",
       "123 121  14.646165  -29.1102277\n",
       "124 122  26.040220   29.2068107\n",
       "125 123 -24.351620   27.9917396\n",
       "126 124  46.610027   26.1228498\n",
       "127 125  -4.307280  -50.9708168\n",
       "128 126  22.834242  -27.4501285\n",
       "129 127 -20.195383   52.2093523\n",
       "130 128  40.408070   21.0728192\n",
       "131 129 -44.166240   -2.5093311\n",
       "132 130  -7.048576   51.1082412\n",
       "133 131 -12.676318   34.2526188\n",
       "134 132  50.803012  -31.7454608\n",
       "135 133  31.522807   23.1273947\n",
       "136 134  22.288465  -50.5871169\n",
       "137 135  60.054867   -0.6516361\n",
       "138 136  44.707578   45.8846706\n",
       "139 137 -40.463510   12.9720215\n",
       "140 138  32.803846  -23.7221914\n",
       "141 139   8.172678   17.9673360\n",
       "142 140 -13.841792    0.6933498\n",
       "143 141  35.190509  -43.9272894\n",
       "144 142   3.560378   23.2415007\n",
       "145 143 -22.186984   35.7449831\n",
       "146 144 -72.033630   18.8564005\n",
       "147 145  54.762701   31.7142233\n",
       "148 146  40.788665   31.6180967\n",
       "149 147 -45.144046   31.5446283\n",
       "150 148  -6.982419  -44.8343168\n",
       "151 149   2.917907  -52.8713471"
      ]
     },
     "metadata": {},
     "output_type": "display_data"
    }
   ],
   "source": [
    "df3<-read.csv(file=\"C:/Users/Arnav/TSNE1.csv\",head=FALSE,sep=\",\")\n",
    "df3"
   ]
  },
  {
   "cell_type": "markdown",
   "metadata": {},
   "source": [
    "##### TSNE plot for Dataset 1"
   ]
  },
  {
   "cell_type": "code",
   "execution_count": 12,
   "metadata": {
    "collapsed": false
   },
   "outputs": [
    {
     "data": {},
     "metadata": {},
     "output_type": "display_data"
    },
    {
     "data": {
      "image/png": "[encoded data removed]",
      "text/plain": [
       "plot without title"
      ]
     },
     "metadata": {},
     "output_type": "display_data"
    }
   ],
   "source": [
    "ggplot(data=df3, aes(x=V2, y=V3,colour=V3)) + geom_point()"
   ]
  },
  {
   "cell_type": "markdown",
   "metadata": {},
   "source": [
    "#### Dataset 2"
   ]
  },
  {
   "cell_type": "markdown",
   "metadata": {},
   "source": [
    "##### Reading CSV for PCA"
   ]
  },
  {
   "cell_type": "code",
   "execution_count": null,
   "metadata": {
    "collapsed": true
   },
   "outputs": [],
   "source": [
    "df4<-read.csv(file=\"C:/Users/Arnav/PCA2.csv\",head=FALSE,sep=\",\")\n",
    "df4"
   ]
  },
  {
   "cell_type": "markdown",
   "metadata": {},
   "source": [
    "##### PCA plot for Dataset 2"
   ]
  },
  {
   "cell_type": "code",
   "execution_count": null,
   "metadata": {
    "collapsed": true
   },
   "outputs": [],
   "source": [
    "ggplot(data=df4, aes(x=V2, y=V3,colour=V3)) + geom_point()"
   ]
  },
  {
   "cell_type": "markdown",
   "metadata": {},
   "source": [
    "##### Reading CSV for SVD"
   ]
  },
  {
   "cell_type": "code",
   "execution_count": null,
   "metadata": {
    "collapsed": true
   },
   "outputs": [],
   "source": [
    "df5<-read.csv(file=\"C:/Users/Arnav/SVD2.csv\",head=FALSE,sep=\",\")\n",
    "df5"
   ]
  },
  {
   "cell_type": "markdown",
   "metadata": {},
   "source": [
    "##### SVD plot for Dataset 2"
   ]
  },
  {
   "cell_type": "code",
   "execution_count": null,
   "metadata": {
    "collapsed": true
   },
   "outputs": [],
   "source": [
    "ggplot(data=df5, aes(x=V2, y=V3,colour=V3)) + geom_point()"
   ]
  },
  {
   "cell_type": "markdown",
   "metadata": {},
   "source": [
    "##### Reading CSV for TSNE"
   ]
  },
  {
   "cell_type": "code",
   "execution_count": null,
   "metadata": {
    "collapsed": true
   },
   "outputs": [],
   "source": [
    "df6<-read.csv(file=\"C:/Users/Arnav/TSNE2.csv\",head=FALSE,sep=\",\")\n",
    "df6"
   ]
  },
  {
   "cell_type": "markdown",
   "metadata": {},
   "source": [
    "##### TSNE plot for Dataset 2"
   ]
  },
  {
   "cell_type": "code",
   "execution_count": null,
   "metadata": {
    "collapsed": true
   },
   "outputs": [],
   "source": [
    "ggplot(data=df6, aes(x=V2, y=V3,colour=V3)) + geom_point()"
   ]
  },
  {
   "cell_type": "markdown",
   "metadata": {},
   "source": [
    "#### Dataset 3"
   ]
  },
  {
   "cell_type": "markdown",
   "metadata": {},
   "source": [
    "##### Reading CSV for PCA"
   ]
  },
  {
   "cell_type": "code",
   "execution_count": null,
   "metadata": {
    "collapsed": true
   },
   "outputs": [],
   "source": [
    "df7<-read.csv(file=\"C:/Users/Arnav/PCA3.csv\",head=FALSE,sep=\",\")\n",
    "df7"
   ]
  },
  {
   "cell_type": "markdown",
   "metadata": {},
   "source": [
    "##### PCA plot for Dataset 3"
   ]
  },
  {
   "cell_type": "code",
   "execution_count": null,
   "metadata": {
    "collapsed": true
   },
   "outputs": [],
   "source": [
    "ggplot(data=df7, aes(x=V2, y=V3,colour=V3)) + geom_point()"
   ]
  },
  {
   "cell_type": "markdown",
   "metadata": {},
   "source": [
    "##### Reading CSV for SVD"
   ]
  },
  {
   "cell_type": "code",
   "execution_count": null,
   "metadata": {
    "collapsed": true
   },
   "outputs": [],
   "source": [
    "df8<-read.csv(file=\"C:/Users/Arnav/SVD3.csv\",head=FALSE,sep=\",\")\n",
    "df8"
   ]
  },
  {
   "cell_type": "markdown",
   "metadata": {},
   "source": [
    "##### SVD plot for Dataset 3"
   ]
  },
  {
   "cell_type": "code",
   "execution_count": null,
   "metadata": {
    "collapsed": true
   },
   "outputs": [],
   "source": [
    "ggplot(data=df8, aes(x=V2, y=V3,colour=V3)) + geom_point()"
   ]
  },
  {
   "cell_type": "markdown",
   "metadata": {},
   "source": [
    "##### Reading CSV for TSNE"
   ]
  },
  {
   "cell_type": "code",
   "execution_count": null,
   "metadata": {
    "collapsed": true
   },
   "outputs": [],
   "source": [
    "df9<-read.csv(file=\"C:/Users/Arnav/TSNE3.csv\",head=FALSE,sep=\",\")\n",
    "df9"
   ]
  },
  {
   "cell_type": "markdown",
   "metadata": {},
   "source": [
    "##### TSNE plot for Dataset 3"
   ]
  },
  {
   "cell_type": "code",
   "execution_count": null,
   "metadata": {
    "collapsed": true
   },
   "outputs": [],
   "source": [
    "ggplot(data=df9, aes(x=V2, y=V3,colour=V3)) + geom_point()"
   ]
  }
 ],
 "metadata": {
  "kernelspec": {
   "display_name": "R",
   "language": "R",
   "name": "ir"
  },
  "language_info": {
   "codemirror_mode": "r",
   "file_extension": ".r",
   "mimetype": "text/x-r-source",
   "name": "R",
   "pygments_lexer": "r",
   "version": "3.3.2"
  }
 },
 "nbformat": 4,
 "nbformat_minor": 2
}
